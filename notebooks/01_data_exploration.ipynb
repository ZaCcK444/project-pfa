{
 "cells": [
  {
   "cell_type": "code",
   "execution_count": null,
   "id": "39d310be",
   "metadata": {
    "vscode": {
     "languageId": "plaintext"
    }
   },
   "outputs": [],
   "source": [
    "import pandas as pd\n",
    "import matplotlib.pyplot as plt\n",
    "import seaborn as sns\n",
    "\n",
    "# Load data\n",
    "df = pd.read_csv('../data/amazon_reviews.csv')\n",
    "\n",
    "# Basic info\n",
    "print(\"Data shape:\", df.shape)\n",
    "print(\"\\nColumns:\", df.columns.tolist())\n",
    "print(\"\\nData types:\\n\", df.dtypes)\n",
    "print(\"\\nMissing values:\\n\", df.isna().sum())\n",
    "\n",
    "# Rating distribution\n",
    "plt.figure(figsize=(10, 6))\n",
    "sns.countplot(x='review/score', data=df)\n",
    "plt.title('Distribution of Product Ratings')\n",
    "plt.show()\n",
    "\n",
    "# Helpfulness analysis\n",
    "df['helpful'] = df['review/helpfulness'].apply(lambda x: eval(x)[0] if pd.notna(x) else 0)\n",
    "plt.figure(figsize=(10, 6))\n",
    "sns.histplot(df['helpful'], bins=30)\n",
    "plt.title('Distribution of Helpfulness Votes')\n",
    "plt.show()\n",
    "\n",
    "# Price analysis\n",
    "df['product/price'] = pd.to_numeric(df['product/price'], errors='coerce')\n",
    "plt.figure(figsize=(10, 6))\n",
    "sns.histplot(df['product/price'].dropna(), bins=50)\n",
    "plt.title('Distribution of Product Prices')\n",
    "plt.xlim(0, 100)  # Limit to $100 for better visualization\n",
    "plt.show()"
   ]
  }
 ],
 "metadata": {
  "language_info": {
   "name": "python"
  }
 },
 "nbformat": 4,
 "nbformat_minor": 5
}
